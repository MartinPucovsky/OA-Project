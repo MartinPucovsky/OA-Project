{
 "cells": [
  {
   "cell_type": "code",
   "execution_count": 1,
   "id": "5a053c07",
   "metadata": {},
   "outputs": [],
   "source": [
    "# Useful imports\n",
    "import numpy as np\n",
    "from matplotlib.pyplot import figure, show\n",
    "from astropy.io import fits\n",
    "from pathlib import Path\n",
    "from mpl_toolkits.axes_grid1 import make_axes_locatable\n",
    "import astroalign as aa"
   ]
  },
  {
   "cell_type": "code",
   "execution_count": 2,
   "id": "9b9c9344",
   "metadata": {},
   "outputs": [],
   "source": [
    "# Gets masterbias and masterflats\n",
    "\n",
    "# path to masters\n",
    "path = \"/net/virgo01/data/users/mpucovsky/OAProject/2025-05-05/DataReduction\"\n",
    "pathObj = Path(path)\n",
    "\n",
    "masterFlats = {}\n",
    "for f in pathObj.iterdir():\n",
    "    hduList = fits.open(f)\n",
    "    head = hduList[0].header\n",
    "    data = hduList[0].data\n",
    "    name = f.name\n",
    "    if \"MBias\" in name:\n",
    "        if \"MBias3\" in name:\n",
    "            MBias3 = data\n",
    "        else:\n",
    "            MBias = data\n",
    "    else:\n",
    "        if \"Lum\" in name:\n",
    "            masterFlats[\"MFlatLum3\"] = data\n",
    "        elif \"3\" in name:\n",
    "            masterFlats[f\"{name[4:11]}\"] = data\n",
    "        else:\n",
    "            masterFlats[f\"{name[4:10]}\"] = data\n",
    "    hduList.close()\n"
   ]
  },
  {
   "cell_type": "code",
   "execution_count": 3,
   "id": "c9f29905",
   "metadata": {},
   "outputs": [
    {
     "name": "stderr",
     "output_type": "stream",
     "text": [
      "/tmp/ipykernel_3675858/2929769705.py:10: RuntimeWarning: invalid value encountered in divide\n",
      "  data /= masterFlats[f\"MFlat{head['FILTER'][:1]}3\"]\n",
      "/tmp/ipykernel_3675858/2929769705.py:8: RuntimeWarning: invalid value encountered in divide\n",
      "  data /= masterFlats[\"MFlatLum3\"]\n"
     ]
    },
    {
     "name": "stdout",
     "output_type": "stream",
     "text": [
      "dict_keys(['LDST_250505-0002_B3.fit', 'LDST_250505-0007_Star_G3.fit', 'LDST_250505-0008_FlatR3.fit', 'LDST_250505-0031_R3.fit', 'LDST_250505-0033_G3.fit', 'LDST_250505-0008_Star_G3.fit', 'LDST_250505-0024_Lum3.fit', 'LDST_250505-0028_G3.fit', 'LDST_250505-0019_B3.fit', 'LDST_250505-0005_Star_G.fit', 'LDST_250505-0014_B3.fit', 'LDST_250505-0034_Lum3.fit', 'LDST_250505-0001_Star_B3.fit', 'LDST_250505-0005_Star_R3.fit', 'LDST_250505-0027_R3.fit', 'LDST_250505-0025_G3.fit', 'LDST_250505-0010_R3.fit', 'LDST_250505-0012_G3.fit', 'LDST_250505-0023_B3.fit', 'LDST_250505-0005_Star_R.fit', 'LDST_250505-0038_B3.fit', 'LDST_250505-0009_G3.fit', 'LDST_250505-0004_Lum3.fit', 'LDST_250505-0006_R3.fit', 'LDST_250505-0004_G3.fit', 'LDST_250505-0014_Lum3.fit', 'LDST_250505-0035_B3.fit', 'LDST_250505-0028_R3.fit', 'LDST_250505-0003_Star_B3.fit', 'LDST_250505-0007_Star_R3.fit', 'LDST_250505-0033_Lum3.fit', 'LDST_250505-0031_G3.fit', 'LDST_250505-0008_FlatG3.fit', 'LDST_250505-0008_Star_R3.fit', 'LDST_250505-0033_R3.fit', 'LDST_250505-0002_Star_R.fit', 'LDST_250505-0027_G3.fit', 'LDST_250505-0025_R3.fit', 'LDST_250505-0016_B3.fit', 'LDST_250505-0005_Star_G3.fit', 'LDST_250505-0001_Star_B.fit', 'LDST_250505-0023_Lum3.fit', 'LDST_250505-0009_R3.fit', 'LDST_250505-0010_FlatB3.fit', 'LDST_250505-0002_Star_G.fit', 'LDST_250505-0021_B3.fit', 'LDST_250505-0006_FlatB3.fit', 'LDST_250505-0010_G3.fit', 'LDST_250505-0012_R3.fit', 'LDST_250505-0013_Lum3.fit', 'LDST_250505-0037_B3.fit', 'LDST_250505-0006_G3.fit', 'LDST_250505-0004_R3.fit', 'LDST_250505-0003_Lum3.fit', 'LDST_250505-0021_G3.fit', 'LDST_250505-0023_R3.fit', 'LDST_250505-0010_FlatG3.fit', 'LDST_250505-0006_FlatG3.fit', 'LDST_250505-0010_B3.fit', 'LDST_250505-0005_Lum3.fit', 'LDST_250505-0038_R3.fit', 'LDST_250505-0037_G3.fit', 'LDST_250505-0035_R3.fit', 'LDST_250505-0015_Lum3.fit', 'LDST_250505-0006_B3.fit', 'LDST_250505-0003_Star_G3.fit', 'LDST_250505-0008_FlatB3.fit', 'LDST_250505-0031_B3.fit', 'LDST_250505-0002_R3.fit', 'LDST_250505-0019_R3.fit', 'LDST_250505-0004_Star_B.fit', 'LDST_250505-0025_Lum3.fit', 'LDST_250505-0027_B3.fit', 'LDST_250505-0016_G3.fit', 'LDST_250505-0005_Star_B3.fit', 'LDST_250505-0001_Star_R3.fit', 'LDST_250505-0035_Lum3.fit', 'LDST_250505-0014_R3.fit', 'LDST_250505-0038_G3.fit', 'LDST_250505-0009_B3.fit', 'LDST_250505-0012_B3.fit', 'LDST_250505-0012_Lum3.fit', 'LDST_250505-0006_FlatR3.fit', 'LDST_250505-0003_Star_B.fit', 'LDST_250505-0021_R3.fit', 'LDST_250505-0010_FlatR3.fit', 'LDST_250505-0023_G3.fit', 'LDST_250505-0004_B3.fit', 'LDST_250505-0037_R3.fit', 'LDST_250505-0035_G3.fit', 'TestLocation.fit', 'LDST_250505-0002_Lum3.fit', 'LDST_250505-0028_B3.fit', 'LDST_250505-0019_G3.fit', 'LDST_250505-0002_G3.fit', 'LDST_250505-0008_Star_B3.fit', 'LDST_250505-0033_B3.fit', 'LDST_250505-0007_Star_B3.fit', 'LDST_250505-0003_Star_R3.fit', 'LDST_250505-0032_Lum3.fit', 'LDST_250505-0016_R3.fit', 'LDST_250505-0001_Star_G3.fit', 'LDST_250505-0014_G3.fit', 'LDST_250505-0025_B3.fit', 'LDST_250505-0022_Lum3.fit', 'LDST_250505-0001_Star_R.fit', 'LDST_250505-0004_Star_B3.fit', 'LDST_250505-0031_Lum3.fit', 'LDST_250505-0017_G3.fit', 'LDST_250505-0015_R3.fit', 'LDST_250505-0026_B3.fit', 'LDST_250505-0001_G3.fit', 'LDST_250505-0007_FlatR3.fit', 'LDST_250505-0003_R3.fit', 'LDST_250505-0021_Lum3.fit', 'LDST_250505-0002_Star_B.fit', 'LDST_250505-0030_B3.fit', 'LDST_250505-0002_Star_G3.fit', 'LDST_250505-0018_R3.fit', 'LDST_250505-0010_Star_R3.fit', 'LDST_250505-0011_Lum3.fit', 'LDST_250505-0001_Star_G.fit', 'LDST_250505-0007_B3.fit', 'LDST_250505-0036_G3.fit', 'LDST_250505-0034_R3.fit', 'LDST_250505-0011_B3.fit', 'LDST_250505-0001_Lum3.fit', 'LDST_250505-0020_G3.fit', 'LDST_250505-0022_R3.fit', 'LDST_250505-0024_B3.fit', 'LDST_250505-0029_Lum3.fit', 'LDST_250505-0017_R3.fit', 'LDST_250505-0015_G3.fit', 'LDST_250505-0026_Lum3.fit', 'LDST_250505-0018_G3.fit', 'LDST_250505-0010_Star_G3.fit', 'LDST_250505-0002_Star_R3.fit', 'LDST_250505-0006_Star_B3.fit', 'LDST_250505-0036_Lum3.fit', 'LDST_250505-0029_B3.fit', 'LDST_250505-0009_Star_B3.fit', 'LDST_250505-0032_B3.fit', 'LDST_250505-0001_R3.fit', 'LDST_250505-0007_FlatG3.fit', 'LDST_250505-0003_G3.fit', 'LDST_250505-0006_Lum3.fit', 'LDST_250505-0036_R3.fit', 'LDST_250505-0009_Lum3.fit', 'LDST_250505-0034_G3.fit', 'LDST_250505-0005_B3.fit', 'LDST_250505-0019_Lum3.fit', 'LDST_250505-0008_B3.fit', 'LDST_250505-0016_Lum3.fit', 'LDST_250505-0005_Star_B.fit', 'LDST_250505-0020_R3.fit', 'LDST_250505-0009_FlatB3.fit', 'LDST_250505-0022_G3.fit', 'LDST_250505-0013_B3.fit', 'LDST_250505-0010_Lum3.fit', 'LDST_250505-0034_B3.fit', 'LDST_250505-0007_R3.fit', 'LDST_250505-0005_G3.fit', 'LDST_250505-0022_B3.fit', 'LDST_250505-0009_FlatG3.fit', 'LDST_250505-0011_R3.fit', 'LDST_250505-0003_Star_R.fit', 'LDST_250505-0013_G3.fit', 'LDST_250505-0008_G3.fit', 'LDST_250505-0004_Star_R3.fit', 'LDST_250505-0030_Lum3.fit', 'LDST_250505-0026_R3.fit', 'LDST_250505-0024_G3.fit', 'LDST_250505-0015_B3.fit', 'LDST_250505-0003_Star_G.fit', 'LDST_250505-0030_R3.fit', 'LDST_250505-0032_G3.fit', 'LDST_250505-0020_Lum3.fit', 'LDST_250505-0007_FlatB3.fit', 'LDST_250505-0003_B3.fit', 'LDST_250505-0018_B3.fit', 'LDST_250505-0010_Star_B3.fit', 'LDST_250505-0029_G3.fit', 'LDST_250505-0009_Star_G3.fit', 'LDST_250505-0006_Star_G3.fit', 'LDST_250505-0007_G3.fit', 'LDST_250505-0005_R3.fit', 'LDST_250505-0008_Lum3.fit', 'LDST_250505-0036_B3.fit', 'LDST_250505-0007_Lum3.fit', 'LDST_250505-0008_R3.fit', 'LDST_250505-0017_Lum3.fit', 'LDST_250505-0018_Lum3.fit', 'LDST_250505-0004_Star_G.fit', 'LDST_250505-0011_G3.fit', 'LDST_250505-0013_R3.fit', 'LDST_250505-0009_FlatR3.fit', 'LDST_250505-0020_B3.fit', 'LDST_250505-0027_Lum3.fit', 'LDST_250505-0028_Lum3.fit', 'LDST_250505-0017_B3.fit', 'LDST_250505-0026_G3.fit', 'LDST_250505-0024_R3.fit', 'LDST_250505-0004_Star_G3.fit', 'LDST_250505-0038_Lum3.fit', 'LDST_250505-0029_R3.fit', 'LDST_250505-0009_Star_R3.fit', 'LDST_250505-0037_Lum3.fit', 'LDST_250505-0006_Star_R3.fit', 'LDST_250505-0004_Star_R.fit', 'LDST_250505-0002_Star_B3.fit', 'LDST_250505-0001_B3.fit', 'LDST_250505-0030_G3.fit', 'LDST_250505-0032_R3.fit'])\n"
     ]
    }
   ],
   "source": [
    "# gets and reduces all images taken\n",
    "\n",
    "def Reduce(data, head):\n",
    "    \"\"\"Reduces input image\"\"\"\n",
    "    if data.shape == (1173, 1552): # 3x3 binning\n",
    "        data -= MBias3\n",
    "        if head[\"FILTER\"] == \"Lum\":\n",
    "            data /= masterFlats[\"MFlatLum3\"]\n",
    "        else:\n",
    "            data /= masterFlats[f\"MFlat{head['FILTER'][:1]}3\"]\n",
    "        return data\n",
    "    elif data.shape == (3520, 4656): # 1x1 binning\n",
    "        data -= MBias\n",
    "        if head[\"FILTER\"] == \"Lum\": # There is no 1x1 binning Lum, \n",
    "            return None    # however a file keeps tripping this up (presumably a standard star field, alternatively the \"test image\")\n",
    "        else:              # data taken in Lum was using 3x3 binning, so it is alright to exclude this.\n",
    "            data /= masterFlats[f\"MFlat{head['FILTER'][:1]}\"]\n",
    "        return data\n",
    "\n",
    "# path to data\n",
    "path = \"/net/virgo01/data/users/mpucovsky/OAProject/2025-05-05\"\n",
    "pathObj = Path(path)\n",
    "\n",
    "reducedIm = {}\n",
    "for f in pathObj.iterdir():\n",
    "    if not f.is_dir():\n",
    "        hduList = fits.open(f)\n",
    "        head = hduList[0].header\n",
    "        name = f.name\n",
    "        if head[\"IMAGETYP\"].upper() == \"LIGHT\" and head[\"FILTER\"] != \"ND1.2\":\n",
    "            data = hduList[0].data.astype(float)\n",
    "            reducedIm[name] = Reduce(data, head)\n",
    "        elif head[\"IMAGETYP\"].upper() == \"FLAT\" and head[\"EXPTIME\"] == 30.0:\n",
    "            data = hduList[0].data.astype(float)\n",
    "            reducedIm[name] = Reduce(data, head)\n",
    "        hduList.close\n",
    "\n",
    "print(reducedIm.keys())"
   ]
  },
  {
   "cell_type": "code",
   "execution_count": 4,
   "id": "f7fc51bf",
   "metadata": {},
   "outputs": [
    {
     "name": "stdout",
     "output_type": "stream",
     "text": [
      "TestLocation.fit: Failed\n",
      "dict_keys(['LDST_250505-0002_B3.fit', 'LDST_250505-0007_Star_G3.fit', 'LDST_250505-0008_FlatR3.fit', 'LDST_250505-0031_R3.fit', 'LDST_250505-0033_G3.fit', 'LDST_250505-0008_Star_G3.fit', 'LDST_250505-0024_Lum3.fit', 'LDST_250505-0028_G3.fit', 'LDST_250505-0019_B3.fit', 'LDST_250505-0005_Star_G.fit', 'LDST_250505-0014_B3.fit', 'LDST_250505-0034_Lum3.fit', 'LDST_250505-0001_Star_B3.fit', 'LDST_250505-0005_Star_R3.fit', 'LDST_250505-0027_R3.fit', 'LDST_250505-0025_G3.fit', 'LDST_250505-0010_R3.fit', 'LDST_250505-0012_G3.fit', 'LDST_250505-0023_B3.fit', 'LDST_250505-0005_Star_R.fit', 'LDST_250505-0038_B3.fit', 'LDST_250505-0009_G3.fit', 'LDST_250505-0004_Lum3.fit', 'LDST_250505-0006_R3.fit', 'LDST_250505-0004_G3.fit', 'LDST_250505-0014_Lum3.fit', 'LDST_250505-0035_B3.fit', 'LDST_250505-0028_R3.fit', 'LDST_250505-0003_Star_B3.fit', 'LDST_250505-0007_Star_R3.fit', 'LDST_250505-0033_Lum3.fit', 'LDST_250505-0031_G3.fit', 'LDST_250505-0008_FlatG3.fit', 'LDST_250505-0008_Star_R3.fit', 'LDST_250505-0033_R3.fit', 'LDST_250505-0002_Star_R.fit', 'LDST_250505-0027_G3.fit', 'LDST_250505-0025_R3.fit', 'LDST_250505-0016_B3.fit', 'LDST_250505-0005_Star_G3.fit', 'LDST_250505-0001_Star_B.fit', 'LDST_250505-0023_Lum3.fit', 'LDST_250505-0009_R3.fit', 'LDST_250505-0010_FlatB3.fit', 'LDST_250505-0002_Star_G.fit', 'LDST_250505-0021_B3.fit', 'LDST_250505-0006_FlatB3.fit', 'LDST_250505-0010_G3.fit', 'LDST_250505-0012_R3.fit', 'LDST_250505-0013_Lum3.fit', 'LDST_250505-0037_B3.fit', 'LDST_250505-0006_G3.fit', 'LDST_250505-0004_R3.fit', 'LDST_250505-0003_Lum3.fit', 'LDST_250505-0021_G3.fit', 'LDST_250505-0023_R3.fit', 'LDST_250505-0010_FlatG3.fit', 'LDST_250505-0006_FlatG3.fit', 'LDST_250505-0010_B3.fit', 'LDST_250505-0005_Lum3.fit', 'LDST_250505-0038_R3.fit', 'LDST_250505-0037_G3.fit', 'LDST_250505-0035_R3.fit', 'LDST_250505-0015_Lum3.fit', 'LDST_250505-0006_B3.fit', 'LDST_250505-0003_Star_G3.fit', 'LDST_250505-0008_FlatB3.fit', 'LDST_250505-0031_B3.fit', 'LDST_250505-0002_R3.fit', 'LDST_250505-0019_R3.fit', 'LDST_250505-0004_Star_B.fit', 'LDST_250505-0025_Lum3.fit', 'LDST_250505-0027_B3.fit', 'LDST_250505-0016_G3.fit', 'LDST_250505-0005_Star_B3.fit', 'LDST_250505-0001_Star_R3.fit', 'LDST_250505-0035_Lum3.fit', 'LDST_250505-0014_R3.fit', 'LDST_250505-0038_G3.fit', 'LDST_250505-0009_B3.fit', 'LDST_250505-0012_B3.fit', 'LDST_250505-0012_Lum3.fit', 'LDST_250505-0006_FlatR3.fit', 'LDST_250505-0003_Star_B.fit', 'LDST_250505-0021_R3.fit', 'LDST_250505-0010_FlatR3.fit', 'LDST_250505-0023_G3.fit', 'LDST_250505-0004_B3.fit', 'LDST_250505-0037_R3.fit', 'LDST_250505-0035_G3.fit', 'TestLocation.fit', 'LDST_250505-0002_Lum3.fit', 'LDST_250505-0028_B3.fit', 'LDST_250505-0019_G3.fit', 'LDST_250505-0002_G3.fit', 'LDST_250505-0008_Star_B3.fit', 'LDST_250505-0033_B3.fit', 'LDST_250505-0007_Star_B3.fit', 'LDST_250505-0003_Star_R3.fit', 'LDST_250505-0032_Lum3.fit', 'LDST_250505-0016_R3.fit', 'LDST_250505-0001_Star_G3.fit', 'LDST_250505-0014_G3.fit', 'LDST_250505-0025_B3.fit', 'LDST_250505-0022_Lum3.fit', 'LDST_250505-0001_Star_R.fit', 'LDST_250505-0004_Star_B3.fit', 'LDST_250505-0031_Lum3.fit', 'LDST_250505-0017_G3.fit', 'LDST_250505-0015_R3.fit', 'LDST_250505-0026_B3.fit', 'LDST_250505-0001_G3.fit', 'LDST_250505-0007_FlatR3.fit', 'LDST_250505-0003_R3.fit', 'LDST_250505-0021_Lum3.fit', 'LDST_250505-0002_Star_B.fit', 'LDST_250505-0030_B3.fit', 'LDST_250505-0002_Star_G3.fit', 'LDST_250505-0018_R3.fit', 'LDST_250505-0010_Star_R3.fit', 'LDST_250505-0011_Lum3.fit', 'LDST_250505-0001_Star_G.fit', 'LDST_250505-0007_B3.fit', 'LDST_250505-0036_G3.fit', 'LDST_250505-0034_R3.fit', 'LDST_250505-0011_B3.fit', 'LDST_250505-0001_Lum3.fit', 'LDST_250505-0020_G3.fit', 'LDST_250505-0022_R3.fit', 'LDST_250505-0024_B3.fit', 'LDST_250505-0029_Lum3.fit', 'LDST_250505-0017_R3.fit', 'LDST_250505-0015_G3.fit', 'LDST_250505-0026_Lum3.fit', 'LDST_250505-0018_G3.fit', 'LDST_250505-0010_Star_G3.fit', 'LDST_250505-0002_Star_R3.fit', 'LDST_250505-0006_Star_B3.fit', 'LDST_250505-0036_Lum3.fit', 'LDST_250505-0029_B3.fit', 'LDST_250505-0009_Star_B3.fit', 'LDST_250505-0032_B3.fit', 'LDST_250505-0001_R3.fit', 'LDST_250505-0007_FlatG3.fit', 'LDST_250505-0003_G3.fit', 'LDST_250505-0006_Lum3.fit', 'LDST_250505-0036_R3.fit', 'LDST_250505-0009_Lum3.fit', 'LDST_250505-0034_G3.fit', 'LDST_250505-0005_B3.fit', 'LDST_250505-0019_Lum3.fit', 'LDST_250505-0008_B3.fit', 'LDST_250505-0016_Lum3.fit', 'LDST_250505-0005_Star_B.fit', 'LDST_250505-0020_R3.fit', 'LDST_250505-0009_FlatB3.fit', 'LDST_250505-0022_G3.fit', 'LDST_250505-0013_B3.fit', 'LDST_250505-0010_Lum3.fit', 'LDST_250505-0034_B3.fit', 'LDST_250505-0007_R3.fit', 'LDST_250505-0005_G3.fit', 'LDST_250505-0022_B3.fit', 'LDST_250505-0009_FlatG3.fit', 'LDST_250505-0011_R3.fit', 'LDST_250505-0003_Star_R.fit', 'LDST_250505-0013_G3.fit', 'LDST_250505-0008_G3.fit', 'LDST_250505-0004_Star_R3.fit', 'LDST_250505-0030_Lum3.fit', 'LDST_250505-0026_R3.fit', 'LDST_250505-0024_G3.fit', 'LDST_250505-0015_B3.fit', 'LDST_250505-0003_Star_G.fit', 'LDST_250505-0030_R3.fit', 'LDST_250505-0032_G3.fit', 'LDST_250505-0020_Lum3.fit', 'LDST_250505-0007_FlatB3.fit', 'LDST_250505-0003_B3.fit', 'LDST_250505-0018_B3.fit', 'LDST_250505-0010_Star_B3.fit', 'LDST_250505-0029_G3.fit', 'LDST_250505-0009_Star_G3.fit', 'LDST_250505-0006_Star_G3.fit', 'LDST_250505-0007_G3.fit', 'LDST_250505-0005_R3.fit', 'LDST_250505-0008_Lum3.fit', 'LDST_250505-0036_B3.fit', 'LDST_250505-0007_Lum3.fit', 'LDST_250505-0008_R3.fit', 'LDST_250505-0017_Lum3.fit', 'LDST_250505-0018_Lum3.fit', 'LDST_250505-0004_Star_G.fit', 'LDST_250505-0011_G3.fit', 'LDST_250505-0013_R3.fit', 'LDST_250505-0009_FlatR3.fit', 'LDST_250505-0020_B3.fit', 'LDST_250505-0027_Lum3.fit', 'LDST_250505-0028_Lum3.fit', 'LDST_250505-0017_B3.fit', 'LDST_250505-0026_G3.fit', 'LDST_250505-0024_R3.fit', 'LDST_250505-0004_Star_G3.fit', 'LDST_250505-0038_Lum3.fit', 'LDST_250505-0029_R3.fit', 'LDST_250505-0009_Star_R3.fit', 'LDST_250505-0037_Lum3.fit', 'LDST_250505-0006_Star_R3.fit', 'LDST_250505-0004_Star_R.fit', 'LDST_250505-0002_Star_B3.fit', 'LDST_250505-0001_B3.fit', 'LDST_250505-0030_G3.fit', 'LDST_250505-0032_R3.fit'])\n"
     ]
    }
   ],
   "source": [
    "# Aligns all starfields and all images of WASP-135\n",
    "\n",
    "def Align(source, Aligner, f):\n",
    "    try:\n",
    "        aligned, footprint = aa.register(source, Aligner)\n",
    "        return aligned\n",
    "    except:\n",
    "        print(f\"{f}: Failed\")\n",
    "        return source\n",
    "\n",
    "# R,G,B are all similar enough that one G image will be used as a reference for all of them\n",
    "# reference images on which to align starfields\n",
    "starAlign = reducedIm[\"LDST_250505-0001_Star_G.fit\"]\n",
    "\n",
    "starAlign3 = reducedIm[\"LDST_250505-0001_Star_G3.fit\"]\n",
    "\n",
    "# reference image on which to align images of WASP-135\n",
    "# Lum is different enough to warrant its own reference image\n",
    "objectAlign = reducedIm[\"LDST_250505-0001_G3.fit\"]\n",
    "\n",
    "objectAlignLum = reducedIm[\"LDST_250505-0001_Lum3.fit\"]\n",
    "\n",
    "\n",
    "alignedImages = {}\n",
    "for f in reducedIm:\n",
    "    data = reducedIm[f]\n",
    "    if \"Star\" in f or \"Flat\" in f:\n",
    "        if data.shape == (1173, 1552): # 3x3 binning\n",
    "            alignedImages[f] = Align(data, starAlign3, f)\n",
    "        elif data.shape == (3520, 4656): # 1x1 binning\n",
    "            alignedImages[f] = Align(data, starAlign, f)\n",
    "    else:\n",
    "        if \"Lum\" in f:\n",
    "            alignedImages[f] = Align(data, objectAlignLum, f)\n",
    "        else:\n",
    "            alignedImages[f] = Align(data, objectAlign, f)\n",
    "            \n",
    "print(alignedImages.keys())"
   ]
  },
  {
   "cell_type": "code",
   "execution_count": 7,
   "id": "4393ccf7",
   "metadata": {},
   "outputs": [],
   "source": [
    "# saves reduced & aligned images\n",
    "path = \"/net/virgo01/data/users/mpucovsky/OAProject/2025-05-05\"\n",
    "\n",
    "for f in alignedImages:\n",
    "    if f != \"TestLocation.fit\":\n",
    "        hduList = fits.open(path+\"/\"+f)\n",
    "        head = hduList[0].header\n",
    "        primary = fits.PrimaryHDU(alignedImages[f], head)\n",
    "        hdu = fits.HDUList([primary])\n",
    "        splitF = f.split(\"-\")\n",
    "        pathW = path+\"/Reduced/Reduced_\"+splitF[1]\n",
    "        hdu.writeto(pathW, overwrite=True)\n",
    "        hduList.close()"
   ]
  },
  {
   "cell_type": "code",
   "execution_count": null,
   "id": "8416ecfe",
   "metadata": {},
   "outputs": [],
   "source": []
  }
 ],
 "metadata": {
  "@webio": {
   "lastCommId": null,
   "lastKernelId": null
  },
  "kernelspec": {
   "display_name": "Anaconda3 - 2024.02",
   "language": "python",
   "name": "python3-2024.02"
  },
  "language_info": {
   "codemirror_mode": {
    "name": "ipython",
    "version": 3
   },
   "file_extension": ".py",
   "mimetype": "text/x-python",
   "name": "python",
   "nbconvert_exporter": "python",
   "pygments_lexer": "ipython3",
   "version": "3.11.7"
  }
 },
 "nbformat": 4,
 "nbformat_minor": 5
}
